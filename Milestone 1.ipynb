{
 "cells": [
  {
   "cell_type": "code",
   "execution_count": 1,
   "metadata": {},
   "outputs": [],
   "source": [
    "def display_board(board):\n",
    "    print('\\n'*100)\n",
    "    print('  |   |  ')\n",
    "    print(board[0]+ ' | ' + board[1]+  ' | '  +  board[2])\n",
    "    print('  |   |  ')\n",
    "    print('---------')\n",
    "    print('  |   |  ')\n",
    "    print(board[3]+ ' | ' + board[4]+  ' | '  +  board[5])\n",
    "    print('  |   |  ')\n",
    "    print('---------')\n",
    "    print('  |   |  ')\n",
    "    print(board[6]+ ' | ' + board[7]+ ' | '   +  board[8])\n",
    "    print('  |   |  ')"
   ]
  },
  {
   "cell_type": "code",
   "execution_count": 2,
   "metadata": {},
   "outputs": [],
   "source": [
    "board = [' '] * 9"
   ]
  },
  {
   "cell_type": "code",
   "execution_count": 3,
   "metadata": {},
   "outputs": [],
   "source": [
    "def player_marker():\n",
    "    player1_marker = ' '\n",
    "    player2_marker = ' '\n",
    "    \n",
    "    while player1_marker not in ['X','O']:\n",
    "        player1_marker = input('Player 1, Choose your marker : ').upper()\n",
    "        if player1_marker not in ['X','O']:\n",
    "            print('Invalid marker ! \\nChoose between X or O')\n",
    "        else:\n",
    "            pass\n",
    "                \n",
    "        if player1_marker in ['X','O']:\n",
    "            if player1_marker == 'X':\n",
    "                player2_marker = 'O'\n",
    "                print('Player 1 is X \\nPlayer 2 is O')\n",
    "            else:\n",
    "                player2_marker = 'X'\n",
    "                print('Player 1 is O \\nPlayer 2 is X')\n",
    "        \n",
    "      \n",
    "    return (player1_marker,player2_marker)\n",
    "        "
   ]
  },
  {
   "cell_type": "code",
   "execution_count": 4,
   "metadata": {},
   "outputs": [],
   "source": [
    "def replacment(board,marker,position):\n",
    "    board[position] = marker\n",
    "    return display_board(board)"
   ]
  },
  {
   "cell_type": "code",
   "execution_count": 5,
   "metadata": {},
   "outputs": [],
   "source": [
    "def win_check(board,marker):\n",
    "    return (board[0] == board[1] == board[2] == marker) or (board[3] == board[4] == board[5] == marker) or (board[6] == board[7] == board[8] == marker) or (board[0] == board[3] == board[6] == marker) or (board[1] == board[4] == board[7] == marker) or (board[2] == board[5] == board[8] == marker) or (board[0] == board[4] == board[8] == marker) or (board[2] == board[4] == board[6] == marker) "
   ]
  },
  {
   "cell_type": "code",
   "execution_count": 6,
   "metadata": {},
   "outputs": [],
   "source": [
    "import random\n",
    "\n",
    "def first_chance():\n",
    "    randome = random.randint(0,1)\n",
    "    if randome == 0:\n",
    "        return('Player1 goes first') \n",
    "    else:\n",
    "        return('Player2 goes first')"
   ]
  },
  {
   "cell_type": "code",
   "execution_count": 7,
   "metadata": {},
   "outputs": [],
   "source": [
    "def empty_space(board,position):\n",
    "    if board[position] == ' ':\n",
    "        return True\n",
    "    else:\n",
    "        return False"
   ]
  },
  {
   "cell_type": "code",
   "execution_count": 8,
   "metadata": {},
   "outputs": [],
   "source": [
    "def full_board(board):\n",
    "    for i in range(0,9):\n",
    "        if empty_space(board, i):\n",
    "            return False\n",
    "    return True"
   ]
  },
  {
   "cell_type": "code",
   "execution_count": 9,
   "metadata": {},
   "outputs": [],
   "source": [
    "def player_choice(board):\n",
    "    bposition = 0\n",
    "    accepted_position = [0,1,2,3,4,5,6,7,8,]\n",
    "    \n",
    "    while bposition not in accepted_position or not empty_space(board,bposition):\n",
    "        bposition = int(input('Choose a position to place your marker'))\n",
    "        if bposition not in accepted_position:\n",
    "            print('Invalid position')\n",
    "    return bposition        "
   ]
  },
  {
   "cell_type": "code",
   "execution_count": 10,
   "metadata": {},
   "outputs": [],
   "source": [
    "def replay():\n",
    "        play_again = input('Play again ? Yes or No : ').upper()\n",
    "        if play_again == 'YES':\n",
    "            return True\n",
    "        else:\n",
    "            return False"
   ]
  },
  {
   "cell_type": "code",
   "execution_count": null,
   "metadata": {},
   "outputs": [
    {
     "name": "stdout",
     "output_type": "stream",
     "text": [
      "Welcome to Tic Tac Toe!\n"
     ]
    }
   ],
   "source": [
    "print('Welcome to Tic Tac Toe!')\n",
    "\n",
    "while True:\n",
    "    \n",
    "    board = [' '] * 9\n",
    "    player1_marker,player2_marker = player_marker()\n",
    "    turn = first_chance()\n",
    "    print(turn)\n",
    "    \n",
    "    play_game = input('Start game ? Yes or No : ').upper()\n",
    "    \n",
    "    if play_game == 'YES':\n",
    "        game_on = True\n",
    "    else:\n",
    "        game_on = False\n",
    "    \n",
    "    while game_on:\n",
    "        \n",
    "        if turn == 'Player1 goes first':\n",
    "            \n",
    "            display_board(board)\n",
    "            position = player_choice(board)\n",
    "            replace = replacment(board,player1_marker,position)\n",
    "            \n",
    "            if win_check(board,player1_marker):\n",
    "                display_board(board)\n",
    "                print('Congralutions Player 1 has won')\n",
    "                game_on = False\n",
    "            else:\n",
    "                if full_board(board):\n",
    "                    display_board(board)\n",
    "                    print('Game is a TIE')\n",
    "                    break\n",
    "                else:\n",
    "                    turn = 'Player2 goes first'\n",
    "                    \n",
    "        else:\n",
    "            \n",
    "            if turn == 'Player2 goes first':\n",
    "                \n",
    "                display_board(board)\n",
    "                position = player_choice(board)\n",
    "                replace = replacment(board,player2_marker,position)\n",
    "                \n",
    "                \n",
    "                if win_check(board,player2_marker):\n",
    "                    display_board(board)\n",
    "                    print('Congralutions Player 2 has won')\n",
    "                    game_on = False\n",
    "                else: \n",
    "                    if full_board(board):\n",
    "                        display_board(board)\n",
    "                        print('Game is a TIE')\n",
    "                        break\n",
    "                    else:\n",
    "                        turn = 'Player1 goes first'\n",
    "                \n",
    "    if not replay():\n",
    "        break\n"
   ]
  },
  {
   "cell_type": "code",
   "execution_count": null,
   "metadata": {},
   "outputs": [],
   "source": []
  }
 ],
 "metadata": {
  "kernelspec": {
   "display_name": "Python 3",
   "language": "python",
   "name": "python3"
  },
  "language_info": {
   "codemirror_mode": {
    "name": "ipython",
    "version": 3
   },
   "file_extension": ".py",
   "mimetype": "text/x-python",
   "name": "python",
   "nbconvert_exporter": "python",
   "pygments_lexer": "ipython3",
   "version": "3.8.3"
  }
 },
 "nbformat": 4,
 "nbformat_minor": 4
}
